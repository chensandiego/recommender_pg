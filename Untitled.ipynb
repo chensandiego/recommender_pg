{
 "cells": [
  {
   "cell_type": "code",
   "execution_count": null,
   "metadata": {
    "collapsed": true
   },
   "outputs": [],
   "source": [
    "import csv\n",
    "import datetime\n",
    "def load_reviews(path,**kwargs):\n",
    "    options={\n",
    "        'fieldnames':('userid','movieid','rating','timestamp'),\n",
    "        'delimiterr':'\\t',\n",
    "    }\n",
    "    \n",
    "    options.update(kwargs)\n",
    "    parse_date=lambda r,k: datetime.fromtimestamp(float(r[k]))\n",
    "    parse_int = lambda r,k: int(r[k])\n",
    "    \n",
    "    with open(path,'rb') as reviews:\n",
    "        reader=csv.DictReader(reviews,**options)\n",
    "        for row in reader:\n",
    "            row['movieid'] = parse_int(row,'movieid')\n",
    "            row['userid'] = parse_int(row,'userid')\n",
    "            row['rating'] = parse_int(row,'rating')\n",
    "            row['timestamp'] = parse_date(row,'timestamp')\n",
    "        yield row"
   ]
  },
  {
   "cell_type": "code",
   "execution_count": null,
   "metadata": {
    "collapsed": true
   },
   "outputs": [],
   "source": [
    "import os\n",
    "def relative_path(path):\n",
    "\"\"\"return a path relative from this code file\"\"\"\n",
    "    dirname = os.path.dirname(os.path.realpath('__file__'))\n",
    "    path = os.path.join(dirname,path)\n",
    "    return os.path.normpath(path)\n"
   ]
  },
  {
   "cell_type": "code",
   "execution_count": null,
   "metadata": {
    "collapsed": true
   },
   "outputs": [],
   "source": [
    "def load_movies(path,**kwargs):\n",
    "    "
   ]
  }
 ],
 "metadata": {
  "kernelspec": {
   "display_name": "Python 3",
   "language": "python",
   "name": "python3"
  },
  "language_info": {
   "codemirror_mode": {
    "name": "ipython",
    "version": 3
   },
   "file_extension": ".py",
   "mimetype": "text/x-python",
   "name": "python",
   "nbconvert_exporter": "python",
   "pygments_lexer": "ipython3",
   "version": "3.6.1+"
  }
 },
 "nbformat": 4,
 "nbformat_minor": 2
}
